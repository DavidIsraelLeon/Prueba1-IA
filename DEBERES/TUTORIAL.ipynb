{
 "cells": [
  {
   "cell_type": "code",
   "execution_count": null,
   "metadata": {},
   "outputs": [],
   "source": []
  },
  {
   "cell_type": "code",
   "execution_count": 1,
   "metadata": {},
   "outputs": [
    {
     "name": "stdout",
     "output_type": "stream",
     "text": [
      "0.4333333333333333\n"
     ]
    }
   ],
   "source": [
    "\"\"\"EJERCICIO 1\"\"\"\n",
    "pixel= [0.6,0.3,0.4]\n",
    "Laintensidad = 0\n",
    "Laintensidad=(sum(pixel)/3)\n",
    "print(\"ESTA ES LA INTENSIDAD\"Laintensidad)"
   ]
  },
  {
   "cell_type": "code",
   "execution_count": 2,
   "metadata": {},
   "outputs": [
    {
     "name": "stdout",
     "output_type": "stream",
     "text": [
      "En blanco y negro el pixel sería: (0 -> negro, 1 -> blanco)\n",
      "0\n"
     ]
    }
   ],
   "source": [
    "\"\"\"EJERCICIO 2 \"\"\"\n",
    "# Pasar a blanco y negro el valor de intensidad codificado en la variable intensidad\n",
    "\n",
    "\n",
    "# podemos considerar que un pixel se convierte en blanco si su intensidad en escala de grises es mayor a 0.5\n",
    "# y negro de lo contrario\n",
    "blackw = 0 # IMPLEMENTAR\n",
    "if(Laintensidad > 0.5):\n",
    "    blackw=1\n",
    "else:\n",
    "    blackw=0\n",
    "print(\"En blanco y negro el pixel sería: (0 -> negro, 1 -> blanco)\")\n",
    "print(blackw)"
   ]
  },
  {
   "cell_type": "code",
   "execution_count": 5,
   "metadata": {},
   "outputs": [
    {
     "name": "stdout",
     "output_type": "stream",
     "text": [
      "- El maximo es: 100\n"
     ]
    }
   ],
   "source": [
    "\"\"\"EJERCICIO 3\"\"\"\n",
    "#Ejercicio 3: Escribir un for para buscar el máximo de la lista e imprimirlo\n",
    "lista=[10,20,70,5,90,100]\n",
    "maximo=0\n",
    "# IMPLEMENTAR\n",
    "for i in lista:\n",
    "    if (i == max(lista)):\n",
    "        maximo=i\n",
    "    else:\n",
    "        None\n",
    "\n",
    "# debe imprimir 100\n",
    "print(\"El maximo es:\",maximo)"
   ]
  },
  {
   "cell_type": "code",
   "execution_count": 7,
   "metadata": {},
   "outputs": [
    {
     "name": "stdout",
     "output_type": "stream",
     "text": [
      "- La posición del minimo es: 1\n"
     ]
    }
   ],
   "source": [
    "\"\"\"EJERCICIO 4\"\"\"\n",
    "#Ejercicio 4: Escribir un for para buscar el minimo elemento de la lista e imprimir su _posición_\n",
    "lista=[44,11,15,29,53,12,30]\n",
    "posicion=0\n",
    "# IMPLEMENTAR\n",
    "for i, j in enumerate(lista):\n",
    "    if(j == min(lista)):\n",
    "        posicion=i\n",
    "    else:\n",
    "        None\n",
    "#debe imprimir 1\n",
    "print(\"La posición del minimo es:\",posicion)"
   ]
  },
  {
   "cell_type": "code",
   "execution_count": 11,
   "metadata": {},
   "outputs": [
    {
     "name": "stdout",
     "output_type": "stream",
     "text": [
      "Numeros ascendentes [5, 7, 9, 10, 40, 65, 66, 79, 110, 120]\n"
     ]
    }
   ],
   "source": [
    "\"\"\"EJERCICIO 5\"\"\"\n",
    "# Ejercicio 5 : Ordenar la lista de forma asendente \n",
    "#IMPLEMENTAR\n",
    "numeros = [10, 5, 9, 110, 120, 7, 40, 66, 65, 79]\n",
    "numeros.sort()\n",
    "print(\"Numeros ascendentes\",numeros)"
   ]
  },
  {
   "cell_type": "code",
   "execution_count": 15,
   "metadata": {},
   "outputs": [
    {
     "data": {
      "text/plain": [
       "[0, 1, 1, 2, 3, 5, 8, 13, 21, 34, 55, 89]"
      ]
     },
     "execution_count": 15,
     "metadata": {},
     "output_type": "execute_result"
    }
   ],
   "source": [
    "\n",
    "# Crear una funcion en donde me permita enviar como parametro el numero de elementos y \n",
    "# devolver un listado de la serie fibonassi con el numero de elementos ingresado.\n",
    "\n",
    "#IMPLEMENTAR\n",
    "def fibonacci(numero):\n",
    "    one = 0\n",
    "    two= 1\n",
    "    listaf =[]\n",
    "    if(numero == 1):\n",
    "        listaf.append(one)\n",
    "        return listaf\n",
    "    elif(numero == 2):\n",
    "        listaf.append(one)\n",
    "        listaf.append(two)\n",
    "        return listaf\n",
    "    elif(numero > 2):\n",
    "        listaf.append(one)\n",
    "        listaf.append(two)\n",
    "        while numero > len(listaf):\n",
    "            d = listaf[-1]+listaf[-2]\n",
    "            listaf.append(d)\n",
    "        return listaf\n",
    "    else:\n",
    "        print(\"Ingrese un numero mayor a 0\") \n",
    "\n",
    "fibonacci(12)"
   ]
  },
  {
   "cell_type": "code",
   "execution_count": 24,
   "metadata": {},
   "outputs": [
    {
     "name": "stdout",
     "output_type": "stream",
     "text": [
      "La cantidad de ocurrencias es:\n",
      "6\n"
     ]
    }
   ],
   "source": [
    "\n",
    "# Escribir una función que reciba una lista y un valor, \n",
    "#y devuelva la cantidad de veces que aparece ese valor en la lista\n",
    "\n",
    "def ocurre(lista, valor):\n",
    "    # IMPLEMENTAR\n",
    "    cantidad = 0\n",
    "    for i in lista:\n",
    "        if(valor == i):\n",
    "            cantidad += 1\n",
    "    return cantidad\n",
    "\n",
    "\n",
    "lista=[1,4,2,3,5,1,4,2,3,6,1,7,1,3,5,1,1,5,3,2]\n",
    "valor=1\n",
    "\n",
    "print(\"La cantidad de ocurrencias es:\")\n",
    "print(ocurre(lista,valor))\n",
    "#imprime 6"
   ]
  },
  {
   "cell_type": "code",
   "execution_count": 32,
   "metadata": {},
   "outputs": [
    {
     "name": "stdout",
     "output_type": "stream",
     "text": [
      "Numero de lista ['DAVID ISRAEL LEON GALLARDO', 'UNIVERSIDAD POLITECNICA SALESIANA', 28, 'AÑOS', 'SOLTERO']\n",
      "Imprimir lista añadida ['DAVID ISRAEL LEON GALLARDO', 'UNIVERSIDAD POLITECNICA SALESIANA', 28, 'AÑOS', 'SOLTERO', '9no ciclo', 'Too bien']\n",
      "['DAVID ISRAEL LEON GALLARDO', 'UNIVERSIDAD POLITECNICA SALESIANA', 28, 'AÑOS', 'SOLTERO', '9no ciclo', 'Too bien', 'peso:120libras']\n"
     ]
    }
   ],
   "source": [
    "#Investigar las funciones que se pueden utilizar con listas, diccionarios y tuplas.\n",
    "primerLista = [\"DAVID ISRAEL LEON GALLARDO\",\"UNIVERSIDAD POLITECNICA SALESIANA\",28,\"AÑOS\",\"SOLTERO\"]\n",
    "print(\"Numero de lista\",primerLista)\n",
    "\n",
    "#funcion extend(nos permite agregar VARIOS ELEMENTOS dentro de la otra lista)\n",
    "segundaL = [\"9no ciclo\", \"Too bien\"]\n",
    "primerLista.extend(segundaL)\n",
    "print(\"Imprimir lista añadida\",primerLista)\n",
    "\n",
    "#funcion append(para añadir un elemento)\n",
    "d=\"peso:120libras\"\n",
    "primerLista.append(d)\n",
    "print(primerLista)\n"
   ]
  },
  {
   "cell_type": "code",
   "execution_count": 33,
   "metadata": {},
   "outputs": [],
   "source": [
    "## Ejercicio 9\n",
    "\n",
    "# Generar un CRUD (Crear, Leer, Actualizar y Eliminar) de una agenda de telefono.\n",
    "\n",
    "# IMPLEMENTAR\n",
    "\n",
    "def agregar_persona(self):\n",
    "            query='INSERT INTO personas VALUES(NULL,?,?,?,?)'\n",
    "            parameters=(self.name.get(),self.direcc.get(),self.telf.get(),self.correo.get())\n",
    "            self.run_query(query,parameters)\n",
    "        self.get_perso()\n",
    "def eliminarPerso(self)\n",
    "        \n",
    "        self.name.delete(0,END)\n",
    "            self.direcc.delete(0,END)\n",
    "            self.telf.delete(0, END)\n",
    "            self.correo.delete(0, END)"
   ]
  },
  {
   "cell_type": "code",
   "execution_count": 50,
   "metadata": {},
   "outputs": [
    {
     "name": "stdout",
     "output_type": "stream",
     "text": [
      "cedula invalida\n"
     ]
    }
   ],
   "source": [
    "#validacion de cedula ecuatoriana\n",
    "def vcedula(texto):\n",
    "    # sin ceros a la izquierda\n",
    "    nocero = texto.strip(\"0\")\n",
    "    \n",
    "    cedula = int(nocero,0)\n",
    "    verificador = cedula%10\n",
    "    numero = cedula//10\n",
    "    \n",
    "    # mientras tenga números\n",
    "    suma = 0\n",
    "    while (numero > 0):\n",
    "        \n",
    "        # posición impar\n",
    "        posimpar = numero%10\n",
    "        numero   = numero//10\n",
    "        posimpar = 2*posimpar\n",
    "        if (posimpar  > 9):\n",
    "            posimpar = posimpar-9\n",
    "        \n",
    "        # posición par\n",
    "        pospar = numero%10\n",
    "        numero = numero//10\n",
    "        \n",
    "        suma = suma + posimpar + pospar\n",
    "    \n",
    "    decenasup = suma//10 + 1\n",
    "    calculado = decenasup*10 - suma\n",
    "    if (calculado  >= 10):\n",
    "        calculado = calculado - 10\n",
    "\n",
    "    if (calculado == verificador):\n",
    "        print(\"cedula validada\")\n",
    "    else:\n",
    "        print(\"cedula invalida\")\n",
    "    \n",
    "vcedula(\"0105264938\")"
   ]
  },
  {
   "cell_type": "code",
   "execution_count": null,
   "metadata": {},
   "outputs": [],
   "source": []
  }
 ],
 "metadata": {
  "kernelspec": {
   "display_name": "Python 3",
   "language": "python",
   "name": "python3"
  },
  "language_info": {
   "codemirror_mode": {
    "name": "ipython",
    "version": 3
   },
   "file_extension": ".py",
   "mimetype": "text/x-python",
   "name": "python",
   "nbconvert_exporter": "python",
   "pygments_lexer": "ipython3",
   "version": "3.7.4"
  }
 },
 "nbformat": 4,
 "nbformat_minor": 2
}
